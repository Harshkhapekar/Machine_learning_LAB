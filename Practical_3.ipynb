{
  "nbformat": 4,
  "nbformat_minor": 0,
  "metadata": {
    "colab": {
      "provenance": [],
      "authorship_tag": "ABX9TyNxGFjO9w4BR+sqT8aUk4N5",
      "include_colab_link": true
    },
    "kernelspec": {
      "name": "python3",
      "display_name": "Python 3"
    },
    "language_info": {
      "name": "python"
    }
  },
  "cells": [
    {
      "cell_type": "markdown",
      "metadata": {
        "id": "view-in-github",
        "colab_type": "text"
      },
      "source": [
        "<a href=\"https://colab.research.google.com/github/Harshkhapekar/Machine_learning_LAB/blob/main/Practical3_ML_LAB.ipynb\" target=\"_parent\"><img src=\"https://colab.research.google.com/assets/colab-badge.svg\" alt=\"Open In Colab\"/></a>"
      ]
    },
    {
      "cell_type": "code",
      "source": [
        "import numpy as np\n",
        "import matplotlib.pyplot as plt"
      ],
      "metadata": {
        "id": "hBBEqFphvBvd"
      },
      "execution_count": 7,
      "outputs": []
    },
    {
      "cell_type": "code",
      "source": [
        "data = [7, 15, 36, 39, 45, 48, 52, 55, 59, 60, 61, 64, 66, 70, 120]"
      ],
      "metadata": {
        "id": "87Ejjde63Lyl"
      },
      "execution_count": 20,
      "outputs": []
    },
    {
      "cell_type": "code",
      "source": [
        "data.sort()"
      ],
      "metadata": {
        "id": "43V7nYjl3Nnd"
      },
      "execution_count": 21,
      "outputs": []
    },
    {
      "cell_type": "code",
      "source": [
        "q1 = np.percentile(data, 25)\n",
        "q2 = np.percentile(data, 50)\n",
        "q3 = np.percentile(data, 75)\n",
        "iqr = q3 - q1"
      ],
      "metadata": {
        "id": "ajaQ7IRh3VEd"
      },
      "execution_count": 22,
      "outputs": []
    },
    {
      "cell_type": "code",
      "source": [
        "lower_bound = q1 - 1.5 * iqr\n",
        "upper_bound = q3 + 1.5 * iqr\n",
        "outliers = [x for x in data if x < lower_bound or x > upper_bound]\n",
        "\n",
        "print(\"Q1 position:\", q1)\n",
        "print(\"Q2 position:\", q2)\n",
        "print(\"Q3 position:\", q3)\n",
        "print(\"IQR:\", iqr)\n",
        "print(f\"Lower Bound: {lower_bound}\")\n",
        "print(f\"Upper Bound: {upper_bound}\")\n",
        "print(f\"Outliers: {outliers}\")"
      ],
      "metadata": {
        "colab": {
          "base_uri": "https://localhost:8080/"
        },
        "id": "bVme2zOF4mqW",
        "outputId": "14de17ba-f9ad-44db-9cb8-8a21b726b057"
      },
      "execution_count": 23,
      "outputs": [
        {
          "output_type": "stream",
          "name": "stdout",
          "text": [
            "Q1 position: 42.0\n",
            "Q2 position: 55.0\n",
            "Q3 position: 62.5\n",
            "IQR: 20.5\n",
            "Lower Bound: 11.25\n",
            "Upper Bound: 93.25\n",
            "Outliers: [7, 120]\n"
          ]
        }
      ]
    },
    {
      "cell_type": "code",
      "source": [
        "plt.figure(figsize=(5, 6))\n",
        "plt.boxplot(data, vert=True, patch_artist=True, boxprops=dict(facecolor='lightblue'))\n",
        "plt.title('Custom Data Boxplot')\n",
        "plt.ylabel('Values')\n",
        "plt.grid(True)\n",
        "plt.show()"
      ],
      "metadata": {
        "colab": {
          "base_uri": "https://localhost:8080/",
          "height": 545
        },
        "id": "gRyRvJA84to1",
        "outputId": "1113a5dd-7298-4f48-bfb8-32e61a93f9ce"
      },
      "execution_count": 24,
      "outputs": [
        {
          "output_type": "display_data",
          "data": {
            "text/plain": [
              "<Figure size 500x600 with 1 Axes>"
            ],
            "image/png": "[encoded data removed]"
          },
          "metadata": {}
        }
      ]
    }
  ]
}
